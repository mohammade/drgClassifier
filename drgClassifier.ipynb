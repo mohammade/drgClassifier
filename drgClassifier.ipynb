{
 "cells": [
  {
   "cell_type": "markdown",
   "metadata": {},
   "source": [
    "# Text Classification"
   ]
  },
  {
   "cell_type": "markdown",
   "metadata": {},
   "source": [
    "In this problem you have to predict the rating of a drug based on the review and other information.\n",
    "\n",
    "There are different types of this data in this problem. As we are interested in how you approach the data and problem, there are no descriptions of the data types, as in your work you often wont know what types of data you have an will need to think of how to interpret and model the data with little background information.\n",
    "\n",
    "Target column - `rating`\n",
    "\n",
    "The aim here is not to build a perfect state of the art model, we are more interested in seeing how you would go about solving a loosly defined problem and your thought process involved."
   ]
  },
  {
   "cell_type": "code",
   "execution_count": 36,
   "metadata": {},
   "outputs": [],
   "source": [
    "# pandas and numpy packages\n",
    "import pandas as pd\n",
    "from pandas import get_dummies\n",
    "import numpy as np\n",
    "\n",
    "# sklearn package and required libraries\n",
    "from sklearn.model_selection import train_test_split\n",
    "from sklearn.feature_extraction.text import CountVectorizer, TfidfTransformer, TfidfVectorizer\n",
    "from sklearn.pipeline import Pipeline, FeatureUnion\n",
    "from sklearn.preprocessing import StandardScaler,LabelEncoder\n",
    "from sklearn.model_selection import GridSearchCV\n",
    "from sklearn import metrics\n",
    "from sklearn.svm import SVR\n",
    "from sklearn.linear_model import LinearRegression, SGDClassifier, LogisticRegression, LogisticRegressionCV\n",
    "from sklearn.ensemble import RandomForestClassifier, ExtraTreesClassifier\n",
    "from sklearn.svm import SVC\n",
    "from sklearn.naive_bayes import MultinomialNB\n",
    "from sklearn.model_selection import GridSearchCV\n",
    "from sklearn.preprocessing import OneHotEncoder, LabelBinarizer, StandardScaler , Normalizer\n",
    "from sklearn.base import BaseEstimator, TransformerMixin\n",
    "\n",
    "# DenseTransformer from mlxtend package\n",
    "from mlxtend.preprocessing import DenseTransformer\n",
    "\n",
    "# plot visualization packages\n",
    "import seaborn as sns\n",
    "import matplotlib.pyplot as plt\n",
    "\n",
    "# nltk package\n",
    "from nltk.stem.snowball import SnowballStemmer\n",
    "import nltk\n",
    "\n",
    "# others\n",
    "import re\n",
    "import calendar\n",
    "\n",
    "# disable Deprecation Warnings\n",
    "import warnings\n",
    "warnings.filterwarnings(\"ignore\",category=DeprecationWarning)"
   ]
  },
  {
   "cell_type": "code",
   "execution_count": 37,
   "metadata": {},
   "outputs": [],
   "source": [
    "# loading the data into dataframe - please provide the path to .tsv file \n",
    "dr_data = pd.read_table('drugsDataRaw.tsv')"
   ]
  },
  {
   "cell_type": "code",
   "execution_count": 38,
   "metadata": {},
   "outputs": [
    {
     "data": {
      "text/html": [
       "<div>\n",
       "<style scoped>\n",
       "    .dataframe tbody tr th:only-of-type {\n",
       "        vertical-align: middle;\n",
       "    }\n",
       "\n",
       "    .dataframe tbody tr th {\n",
       "        vertical-align: top;\n",
       "    }\n",
       "\n",
       "    .dataframe thead th {\n",
       "        text-align: right;\n",
       "    }\n",
       "</style>\n",
       "<table border=\"1\" class=\"dataframe\">\n",
       "  <thead>\n",
       "    <tr style=\"text-align: right;\">\n",
       "      <th></th>\n",
       "      <th>drugName</th>\n",
       "      <th>condition</th>\n",
       "      <th>review</th>\n",
       "      <th>rating</th>\n",
       "      <th>date</th>\n",
       "      <th>usefulCount</th>\n",
       "    </tr>\n",
       "  </thead>\n",
       "  <tbody>\n",
       "    <tr>\n",
       "      <th>0</th>\n",
       "      <td>Mirtazapine</td>\n",
       "      <td>Depression</td>\n",
       "      <td>\"I&amp;#039;ve tried a few antidepressants over th...</td>\n",
       "      <td>10</td>\n",
       "      <td>February 28, 2012</td>\n",
       "      <td>22</td>\n",
       "    </tr>\n",
       "    <tr>\n",
       "      <th>1</th>\n",
       "      <td>Mesalamine</td>\n",
       "      <td>Crohn's Disease, Maintenance</td>\n",
       "      <td>\"My son has Crohn&amp;#039;s disease and has done ...</td>\n",
       "      <td>8</td>\n",
       "      <td>May 17, 2009</td>\n",
       "      <td>17</td>\n",
       "    </tr>\n",
       "    <tr>\n",
       "      <th>2</th>\n",
       "      <td>Bactrim</td>\n",
       "      <td>Urinary Tract Infection</td>\n",
       "      <td>\"Quick reduction of symptoms\"</td>\n",
       "      <td>9</td>\n",
       "      <td>September 29, 2017</td>\n",
       "      <td>3</td>\n",
       "    </tr>\n",
       "    <tr>\n",
       "      <th>3</th>\n",
       "      <td>Contrave</td>\n",
       "      <td>Weight Loss</td>\n",
       "      <td>\"Contrave combines drugs that were used for al...</td>\n",
       "      <td>9</td>\n",
       "      <td>March 5, 2017</td>\n",
       "      <td>35</td>\n",
       "    </tr>\n",
       "    <tr>\n",
       "      <th>4</th>\n",
       "      <td>Cyclafem 1 / 35</td>\n",
       "      <td>Birth Control</td>\n",
       "      <td>\"I have been on this birth control for one cyc...</td>\n",
       "      <td>9</td>\n",
       "      <td>October 22, 2015</td>\n",
       "      <td>4</td>\n",
       "    </tr>\n",
       "  </tbody>\n",
       "</table>\n",
       "</div>"
      ],
      "text/plain": [
       "          drugName                     condition  \\\n",
       "0      Mirtazapine                    Depression   \n",
       "1       Mesalamine  Crohn's Disease, Maintenance   \n",
       "2          Bactrim       Urinary Tract Infection   \n",
       "3         Contrave                   Weight Loss   \n",
       "4  Cyclafem 1 / 35                 Birth Control   \n",
       "\n",
       "                                              review  rating  \\\n",
       "0  \"I&#039;ve tried a few antidepressants over th...      10   \n",
       "1  \"My son has Crohn&#039;s disease and has done ...       8   \n",
       "2                      \"Quick reduction of symptoms\"       9   \n",
       "3  \"Contrave combines drugs that were used for al...       9   \n",
       "4  \"I have been on this birth control for one cyc...       9   \n",
       "\n",
       "                 date  usefulCount  \n",
       "0   February 28, 2012           22  \n",
       "1        May 17, 2009           17  \n",
       "2  September 29, 2017            3  \n",
       "3       March 5, 2017           35  \n",
       "4    October 22, 2015            4  "
      ]
     },
     "execution_count": 38,
     "metadata": {},
     "output_type": "execute_result"
    }
   ],
   "source": [
    "dr_data.head(5)"
   ]
  },
  {
   "cell_type": "markdown",
   "metadata": {},
   "source": [
    "## Feature Analysis"
   ]
  },
  {
   "cell_type": "code",
   "execution_count": 39,
   "metadata": {},
   "outputs": [
    {
     "name": "stdout",
     "output_type": "stream",
     "text": [
      "<class 'pandas.core.frame.DataFrame'>\n",
      "RangeIndex: 53766 entries, 0 to 53765\n",
      "Data columns (total 6 columns):\n",
      "drugName       53766 non-null object\n",
      "condition      53471 non-null object\n",
      "review         53766 non-null object\n",
      "rating         53766 non-null int64\n",
      "date           53766 non-null object\n",
      "usefulCount    53766 non-null int64\n",
      "dtypes: int64(2), object(4)\n",
      "memory usage: 2.5+ MB\n",
      "None\n"
     ]
    }
   ],
   "source": [
    "# general information about the dataframe\n",
    "print(dr_data.info())"
   ]
  },
  {
   "cell_type": "code",
   "execution_count": 40,
   "metadata": {},
   "outputs": [
    {
     "name": "stdout",
     "output_type": "stream",
     "text": [
      "             rating   usefulCount\n",
      "count  53766.000000  53766.000000\n",
      "mean       6.976900     27.989752\n",
      "std        3.285207     36.172833\n",
      "min        1.000000      0.000000\n",
      "25%        4.000000      6.000000\n",
      "50%        8.000000     16.000000\n",
      "75%       10.000000     36.000000\n",
      "max       10.000000    949.000000\n"
     ]
    }
   ],
   "source": [
    "# Exploring some statistics about integer columns\n",
    "print(dr_data.describe())"
   ]
  },
  {
   "cell_type": "code",
   "execution_count": 41,
   "metadata": {},
   "outputs": [
    {
     "name": "stdout",
     "output_type": "stream",
     "text": [
      "'review' lenght range (words): [1 , 1162]\n",
      "'condition' lenght range (words): [1 , 8]\n",
      "'date' range: [April 1, 2008 , September 9, 2017]\n"
     ]
    }
   ],
   "source": [
    "print('\\'review\\' lenght range (words): [%d , %d]'%(min([len(x.split()) for x in dr_data['review']]),max([len(x.split()) for x in dr_data['review']])))\n",
    "print('\\'condition\\' lenght range (words): [%d , %d]'%(min([len(str(x).split()) for x in dr_data['condition']]),max([len(str(x).split()) for x in dr_data['condition']])))\n",
    "print('\\'date\\' range: [%s , %s]'%(min([x for x in dr_data['date']]),max([x for x in dr_data['date']])))"
   ]
  },
  {
   "cell_type": "code",
   "execution_count": 42,
   "metadata": {},
   "outputs": [
    {
     "name": "stdout",
     "output_type": "stream",
     "text": [
      "drugName : 2637 uique values - nulls: 0\n",
      "condition : 708 uique values - nulls: 0\n",
      "review : 48280 uique values - nulls: 0\n",
      "rating : 10 uique values - nulls: 0\n",
      "date : 3566 uique values - nulls: 0\n",
      "usefulCount : 325 uique values - nulls: 0\n"
     ]
    }
   ],
   "source": [
    "# number of unique and null values in each column\n",
    "for cl in dr_data.columns:\n",
    "    print(cl,':', dr_data[cl].nunique(),'uique values - nulls:',dr_data[dr_data[cl].isnull()][cl].count())"
   ]
  },
  {
   "cell_type": "code",
   "execution_count": 43,
   "metadata": {},
   "outputs": [
    {
     "data": {
      "text/plain": [
       "0.23689723074810015"
      ]
     },
     "execution_count": 43,
     "metadata": {},
     "output_type": "execute_result"
    }
   ],
   "source": [
    "# correlation of rating and usefulCount\n",
    "dr_data['rating'].corr(dr_data['usefulCount'])"
   ]
  },
  {
   "cell_type": "code",
   "execution_count": 44,
   "metadata": {},
   "outputs": [
    {
     "data": {
      "image/png": "[encoded data removed]",
      "text/plain": [
       "<Figure size 432x288 with 1 Axes>"
      ]
     },
     "metadata": {},
     "output_type": "display_data"
    }
   ],
   "source": [
    "# plot the distribution of conditions (top 5 frequent)\n",
    "cond_count = dr_data['condition'].value_counts()\n",
    "sns.set(style=\"darkgrid\")\n",
    "sns.barplot(cond_count.head(5).index, cond_count.head(5).values, alpha=0.9)\n",
    "plt.title('Frequency Distribution of Conditions')\n",
    "plt.ylabel('Number of Conditions', fontsize=12)\n",
    "plt.xlabel('Conditions', fontsize=12)\n",
    "plt.show()"
   ]
  },
  {
   "cell_type": "markdown",
   "metadata": {},
   "source": [
    "## Add some features"
   ]
  },
  {
   "cell_type": "code",
   "execution_count": 45,
   "metadata": {},
   "outputs": [],
   "source": [
    "# add review lenght (characters count) as a new feature\n",
    "dr_data['reviewLength'] = dr_data['review'].apply(len)"
   ]
  },
  {
   "cell_type": "code",
   "execution_count": 46,
   "metadata": {},
   "outputs": [],
   "source": [
    "# add review lenght (words count) as a new feature\n",
    "dr_data['reviewWords'] = dr_data['review'].str.lower().str.split().apply(len)"
   ]
  },
  {
   "cell_type": "code",
   "execution_count": 47,
   "metadata": {},
   "outputs": [
    {
     "data": {
      "text/html": [
       "<div>\n",
       "<style scoped>\n",
       "    .dataframe tbody tr th:only-of-type {\n",
       "        vertical-align: middle;\n",
       "    }\n",
       "\n",
       "    .dataframe tbody tr th {\n",
       "        vertical-align: top;\n",
       "    }\n",
       "\n",
       "    .dataframe thead th {\n",
       "        text-align: right;\n",
       "    }\n",
       "</style>\n",
       "<table border=\"1\" class=\"dataframe\">\n",
       "  <thead>\n",
       "    <tr style=\"text-align: right;\">\n",
       "      <th></th>\n",
       "      <th>drugName</th>\n",
       "      <th>condition</th>\n",
       "      <th>review</th>\n",
       "      <th>rating</th>\n",
       "      <th>date</th>\n",
       "      <th>usefulCount</th>\n",
       "      <th>reviewLength</th>\n",
       "      <th>reviewWords</th>\n",
       "    </tr>\n",
       "  </thead>\n",
       "  <tbody>\n",
       "    <tr>\n",
       "      <th>0</th>\n",
       "      <td>Mirtazapine</td>\n",
       "      <td>Depression</td>\n",
       "      <td>\"I&amp;#039;ve tried a few antidepressants over th...</td>\n",
       "      <td>10</td>\n",
       "      <td>February 28, 2012</td>\n",
       "      <td>22</td>\n",
       "      <td>439</td>\n",
       "      <td>68</td>\n",
       "    </tr>\n",
       "    <tr>\n",
       "      <th>1</th>\n",
       "      <td>Mesalamine</td>\n",
       "      <td>Crohn's Disease, Maintenance</td>\n",
       "      <td>\"My son has Crohn&amp;#039;s disease and has done ...</td>\n",
       "      <td>8</td>\n",
       "      <td>May 17, 2009</td>\n",
       "      <td>17</td>\n",
       "      <td>268</td>\n",
       "      <td>48</td>\n",
       "    </tr>\n",
       "    <tr>\n",
       "      <th>2</th>\n",
       "      <td>Bactrim</td>\n",
       "      <td>Urinary Tract Infection</td>\n",
       "      <td>\"Quick reduction of symptoms\"</td>\n",
       "      <td>9</td>\n",
       "      <td>September 29, 2017</td>\n",
       "      <td>3</td>\n",
       "      <td>29</td>\n",
       "      <td>4</td>\n",
       "    </tr>\n",
       "    <tr>\n",
       "      <th>3</th>\n",
       "      <td>Contrave</td>\n",
       "      <td>Weight Loss</td>\n",
       "      <td>\"Contrave combines drugs that were used for al...</td>\n",
       "      <td>9</td>\n",
       "      <td>March 5, 2017</td>\n",
       "      <td>35</td>\n",
       "      <td>782</td>\n",
       "      <td>143</td>\n",
       "    </tr>\n",
       "    <tr>\n",
       "      <th>4</th>\n",
       "      <td>Cyclafem 1 / 35</td>\n",
       "      <td>Birth Control</td>\n",
       "      <td>\"I have been on this birth control for one cyc...</td>\n",
       "      <td>9</td>\n",
       "      <td>October 22, 2015</td>\n",
       "      <td>4</td>\n",
       "      <td>762</td>\n",
       "      <td>149</td>\n",
       "    </tr>\n",
       "  </tbody>\n",
       "</table>\n",
       "</div>"
      ],
      "text/plain": [
       "          drugName                     condition  \\\n",
       "0      Mirtazapine                    Depression   \n",
       "1       Mesalamine  Crohn's Disease, Maintenance   \n",
       "2          Bactrim       Urinary Tract Infection   \n",
       "3         Contrave                   Weight Loss   \n",
       "4  Cyclafem 1 / 35                 Birth Control   \n",
       "\n",
       "                                              review  rating  \\\n",
       "0  \"I&#039;ve tried a few antidepressants over th...      10   \n",
       "1  \"My son has Crohn&#039;s disease and has done ...       8   \n",
       "2                      \"Quick reduction of symptoms\"       9   \n",
       "3  \"Contrave combines drugs that were used for al...       9   \n",
       "4  \"I have been on this birth control for one cyc...       9   \n",
       "\n",
       "                 date  usefulCount  reviewLength  reviewWords  \n",
       "0   February 28, 2012           22           439           68  \n",
       "1        May 17, 2009           17           268           48  \n",
       "2  September 29, 2017            3            29            4  \n",
       "3       March 5, 2017           35           782          143  \n",
       "4    October 22, 2015            4           762          149  "
      ]
     },
     "execution_count": 47,
     "metadata": {},
     "output_type": "execute_result"
    }
   ],
   "source": [
    "dr_data.head()"
   ]
  },
  {
   "cell_type": "code",
   "execution_count": 48,
   "metadata": {},
   "outputs": [
    {
     "data": {
      "text/html": [
       "<div>\n",
       "<style scoped>\n",
       "    .dataframe tbody tr th:only-of-type {\n",
       "        vertical-align: middle;\n",
       "    }\n",
       "\n",
       "    .dataframe tbody tr th {\n",
       "        vertical-align: top;\n",
       "    }\n",
       "\n",
       "    .dataframe thead th {\n",
       "        text-align: right;\n",
       "    }\n",
       "</style>\n",
       "<table border=\"1\" class=\"dataframe\">\n",
       "  <thead>\n",
       "    <tr style=\"text-align: right;\">\n",
       "      <th></th>\n",
       "      <th>drugName</th>\n",
       "      <th>condition</th>\n",
       "      <th>review</th>\n",
       "      <th>rating</th>\n",
       "      <th>date</th>\n",
       "      <th>usefulCount</th>\n",
       "      <th>reviewLength</th>\n",
       "      <th>reviewWords</th>\n",
       "      <th>day</th>\n",
       "      <th>month</th>\n",
       "      <th>year</th>\n",
       "    </tr>\n",
       "  </thead>\n",
       "  <tbody>\n",
       "    <tr>\n",
       "      <th>0</th>\n",
       "      <td>Mirtazapine</td>\n",
       "      <td>Depression</td>\n",
       "      <td>\"I&amp;#039;ve tried a few antidepressants over th...</td>\n",
       "      <td>10</td>\n",
       "      <td>February 28, 2012</td>\n",
       "      <td>22</td>\n",
       "      <td>439</td>\n",
       "      <td>68</td>\n",
       "      <td>28</td>\n",
       "      <td>2</td>\n",
       "      <td>2012</td>\n",
       "    </tr>\n",
       "    <tr>\n",
       "      <th>1</th>\n",
       "      <td>Mesalamine</td>\n",
       "      <td>Crohn's Disease, Maintenance</td>\n",
       "      <td>\"My son has Crohn&amp;#039;s disease and has done ...</td>\n",
       "      <td>8</td>\n",
       "      <td>May 17, 2009</td>\n",
       "      <td>17</td>\n",
       "      <td>268</td>\n",
       "      <td>48</td>\n",
       "      <td>17</td>\n",
       "      <td>5</td>\n",
       "      <td>2009</td>\n",
       "    </tr>\n",
       "    <tr>\n",
       "      <th>2</th>\n",
       "      <td>Bactrim</td>\n",
       "      <td>Urinary Tract Infection</td>\n",
       "      <td>\"Quick reduction of symptoms\"</td>\n",
       "      <td>9</td>\n",
       "      <td>September 29, 2017</td>\n",
       "      <td>3</td>\n",
       "      <td>29</td>\n",
       "      <td>4</td>\n",
       "      <td>29</td>\n",
       "      <td>9</td>\n",
       "      <td>2017</td>\n",
       "    </tr>\n",
       "    <tr>\n",
       "      <th>3</th>\n",
       "      <td>Contrave</td>\n",
       "      <td>Weight Loss</td>\n",
       "      <td>\"Contrave combines drugs that were used for al...</td>\n",
       "      <td>9</td>\n",
       "      <td>March 5, 2017</td>\n",
       "      <td>35</td>\n",
       "      <td>782</td>\n",
       "      <td>143</td>\n",
       "      <td>5</td>\n",
       "      <td>3</td>\n",
       "      <td>2017</td>\n",
       "    </tr>\n",
       "    <tr>\n",
       "      <th>4</th>\n",
       "      <td>Cyclafem 1 / 35</td>\n",
       "      <td>Birth Control</td>\n",
       "      <td>\"I have been on this birth control for one cyc...</td>\n",
       "      <td>9</td>\n",
       "      <td>October 22, 2015</td>\n",
       "      <td>4</td>\n",
       "      <td>762</td>\n",
       "      <td>149</td>\n",
       "      <td>22</td>\n",
       "      <td>10</td>\n",
       "      <td>2015</td>\n",
       "    </tr>\n",
       "  </tbody>\n",
       "</table>\n",
       "</div>"
      ],
      "text/plain": [
       "          drugName                     condition  \\\n",
       "0      Mirtazapine                    Depression   \n",
       "1       Mesalamine  Crohn's Disease, Maintenance   \n",
       "2          Bactrim       Urinary Tract Infection   \n",
       "3         Contrave                   Weight Loss   \n",
       "4  Cyclafem 1 / 35                 Birth Control   \n",
       "\n",
       "                                              review  rating  \\\n",
       "0  \"I&#039;ve tried a few antidepressants over th...      10   \n",
       "1  \"My son has Crohn&#039;s disease and has done ...       8   \n",
       "2                      \"Quick reduction of symptoms\"       9   \n",
       "3  \"Contrave combines drugs that were used for al...       9   \n",
       "4  \"I have been on this birth control for one cyc...       9   \n",
       "\n",
       "                 date  usefulCount  reviewLength  reviewWords  day  month  \\\n",
       "0   February 28, 2012           22           439           68   28      2   \n",
       "1        May 17, 2009           17           268           48   17      5   \n",
       "2  September 29, 2017            3            29            4   29      9   \n",
       "3       March 5, 2017           35           782          143    5      3   \n",
       "4    October 22, 2015            4           762          149   22     10   \n",
       "\n",
       "   year  \n",
       "0  2012  \n",
       "1  2009  \n",
       "2  2017  \n",
       "3  2017  \n",
       "4  2015  "
      ]
     },
     "execution_count": 48,
     "metadata": {},
     "output_type": "execute_result"
    }
   ],
   "source": [
    "# to better investigate/use the date feature, we split it to day, month, and year features\n",
    "# we first create a dictionary to map month name to month number\n",
    "month_dict = {v: k for k,v in enumerate(calendar.month_name)}\n",
    "\n",
    "dr_data['day']= dr_data['date'].map(lambda x: int(x.split(',')[0].split()[1]))\n",
    "dr_data['month']= dr_data['date'].map(lambda x: month_dict[x.split(',')[0].split()[0]])\n",
    "dr_data['year']= dr_data['date'].map(lambda x: int(x.split(',')[1]))\n",
    "dr_data.head()"
   ]
  },
  {
   "cell_type": "code",
   "execution_count": 49,
   "metadata": {},
   "outputs": [
    {
     "data": {
      "text/plain": [
       "<seaborn.axisgrid.FacetGrid at 0x25f3149f160>"
      ]
     },
     "execution_count": 49,
     "metadata": {},
     "output_type": "execute_result"
    },
    {
     "data": {
      "image/png": "[encoded data removed]",
      "text/plain": [
       "<Figure size 2160x216 with 10 Axes>"
      ]
     },
     "metadata": {},
     "output_type": "display_data"
    }
   ],
   "source": [
    "# visualizig the relationship betweet review length and rating\n",
    "g = sns.FacetGrid(data=dr_data, col='rating')\n",
    "g.map(plt.hist, 'reviewWords', bins=50)"
   ]
  },
  {
   "cell_type": "markdown",
   "metadata": {},
   "source": [
    "The distribution of review length is similar across all 10 ratings. However, the number of reviews seems to be skewed a lot higher towards 10 rating. "
   ]
  },
  {
   "cell_type": "code",
   "execution_count": 50,
   "metadata": {},
   "outputs": [
    {
     "data": {
      "text/plain": [
       "<matplotlib.axes._subplots.AxesSubplot at 0x25f62d65be0>"
      ]
     },
     "execution_count": 50,
     "metadata": {},
     "output_type": "execute_result"
    },
    {
     "data": {
      "image/png": "[encoded data removed]",
      "text/plain": [
       "<Figure size 432x288 with 1 Axes>"
      ]
     },
     "metadata": {},
     "output_type": "display_data"
    }
   ],
   "source": [
    "# we also draw a box plot for review length and rating  \n",
    "sns.boxplot(x='rating', y='reviewLength', data=dr_data)"
   ]
  },
  {
   "cell_type": "markdown",
   "metadata": {},
   "source": [
    "There is no much difference in review lenght distributions. So, possibly the review length won’t be such a useful feature to consider. However, we further investigate its impact later."
   ]
  },
  {
   "cell_type": "code",
   "execution_count": 51,
   "metadata": {},
   "outputs": [
    {
     "data": {
      "text/html": [
       "<div>\n",
       "<style scoped>\n",
       "    .dataframe tbody tr th:only-of-type {\n",
       "        vertical-align: middle;\n",
       "    }\n",
       "\n",
       "    .dataframe tbody tr th {\n",
       "        vertical-align: top;\n",
       "    }\n",
       "\n",
       "    .dataframe thead th {\n",
       "        text-align: right;\n",
       "    }\n",
       "</style>\n",
       "<table border=\"1\" class=\"dataframe\">\n",
       "  <thead>\n",
       "    <tr style=\"text-align: right;\">\n",
       "      <th></th>\n",
       "      <th>usefulCount</th>\n",
       "      <th>reviewLength</th>\n",
       "      <th>reviewWords</th>\n",
       "      <th>day</th>\n",
       "      <th>month</th>\n",
       "      <th>year</th>\n",
       "    </tr>\n",
       "  </thead>\n",
       "  <tbody>\n",
       "    <tr>\n",
       "      <th>usefulCount</th>\n",
       "      <td>1.000000</td>\n",
       "      <td>0.166572</td>\n",
       "      <td>0.206193</td>\n",
       "      <td>0.062052</td>\n",
       "      <td>-0.623558</td>\n",
       "      <td>-0.786224</td>\n",
       "    </tr>\n",
       "    <tr>\n",
       "      <th>reviewLength</th>\n",
       "      <td>0.166572</td>\n",
       "      <td>1.000000</td>\n",
       "      <td>0.998383</td>\n",
       "      <td>0.095790</td>\n",
       "      <td>-0.203187</td>\n",
       "      <td>-0.681211</td>\n",
       "    </tr>\n",
       "    <tr>\n",
       "      <th>reviewWords</th>\n",
       "      <td>0.206193</td>\n",
       "      <td>0.998383</td>\n",
       "      <td>1.000000</td>\n",
       "      <td>0.129941</td>\n",
       "      <td>-0.216044</td>\n",
       "      <td>-0.712966</td>\n",
       "    </tr>\n",
       "    <tr>\n",
       "      <th>day</th>\n",
       "      <td>0.062052</td>\n",
       "      <td>0.095790</td>\n",
       "      <td>0.129941</td>\n",
       "      <td>1.000000</td>\n",
       "      <td>0.505826</td>\n",
       "      <td>-0.193213</td>\n",
       "    </tr>\n",
       "    <tr>\n",
       "      <th>month</th>\n",
       "      <td>-0.623558</td>\n",
       "      <td>-0.203187</td>\n",
       "      <td>-0.216044</td>\n",
       "      <td>0.505826</td>\n",
       "      <td>1.000000</td>\n",
       "      <td>0.595002</td>\n",
       "    </tr>\n",
       "    <tr>\n",
       "      <th>year</th>\n",
       "      <td>-0.786224</td>\n",
       "      <td>-0.681211</td>\n",
       "      <td>-0.712966</td>\n",
       "      <td>-0.193213</td>\n",
       "      <td>0.595002</td>\n",
       "      <td>1.000000</td>\n",
       "    </tr>\n",
       "  </tbody>\n",
       "</table>\n",
       "</div>"
      ],
      "text/plain": [
       "              usefulCount  reviewLength  reviewWords       day     month  \\\n",
       "usefulCount      1.000000      0.166572     0.206193  0.062052 -0.623558   \n",
       "reviewLength     0.166572      1.000000     0.998383  0.095790 -0.203187   \n",
       "reviewWords      0.206193      0.998383     1.000000  0.129941 -0.216044   \n",
       "day              0.062052      0.095790     0.129941  1.000000  0.505826   \n",
       "month           -0.623558     -0.203187    -0.216044  0.505826  1.000000   \n",
       "year            -0.786224     -0.681211    -0.712966 -0.193213  0.595002   \n",
       "\n",
       "                  year  \n",
       "usefulCount  -0.786224  \n",
       "reviewLength -0.681211  \n",
       "reviewWords  -0.712966  \n",
       "day          -0.193213  \n",
       "month         0.595002  \n",
       "year          1.000000  "
      ]
     },
     "execution_count": 51,
     "metadata": {},
     "output_type": "execute_result"
    }
   ],
   "source": [
    "# Group the data by the rating, and see if we can find a correlation between features such as usefulCount, reviewWords, etc.\n",
    "ratings = dr_data.groupby('rating').mean()\n",
    "ratings.corr()"
   ]
  },
  {
   "cell_type": "code",
   "execution_count": 52,
   "metadata": {},
   "outputs": [
    {
     "data": {
      "text/plain": [
       "<matplotlib.axes._subplots.AxesSubplot at 0x25f652e2080>"
      ]
     },
     "execution_count": 52,
     "metadata": {},
     "output_type": "execute_result"
    },
    {
     "data": {
      "image/png": "[encoded data removed]",
      "text/plain": [
       "<Figure size 432x288 with 2 Axes>"
      ]
     },
     "metadata": {},
     "output_type": "display_data"
    }
   ],
   "source": [
    "# plotting the correlations as a heatmap (for easier interpretation)\n",
    "sns.heatmap(data=ratings.corr(), annot=True)"
   ]
  },
  {
   "cell_type": "markdown",
   "metadata": {},
   "source": [
    "As we can see there is a strong correlation between number of words and number of characters in reviews (as expected), so we only consider the reviewLength (character count) in the next steps.\n",
    "There is no other strong correlation between features."
   ]
  },
  {
   "cell_type": "markdown",
   "metadata": {},
   "source": [
    "## Text pre-processing"
   ]
  },
  {
   "cell_type": "code",
   "execution_count": 53,
   "metadata": {},
   "outputs": [],
   "source": [
    "# we define the text_process function to clean and pre-process the text features\n",
    "\n",
    "# load nltk's English stopwords as variable called 'stopwords'\n",
    "stopwords = nltk.corpus.stopwords.words('english')\n",
    "\n",
    "# load nltk's SnowballStemmer as variabled 'stemmer'\n",
    "stemmer = SnowballStemmer(\"english\")\n",
    "\n",
    "# here we define a tokenizer and stemmer which returns the set of stems in the text that it is passed\n",
    "def text_process(text,stem=False,rm_stopwords=True):\n",
    "    output = []\n",
    "    # first tokenize by sentence, then by word to ensure that punctuation is caught as it's own token\n",
    "    tokens = [word for sent in nltk.sent_tokenize(text) for word in nltk.word_tokenize(sent)]\n",
    "    filtered_tokens = []\n",
    "    # filter out any tokens not containing letters (e.g., numeric tokens, raw punctuation)\n",
    "    for token in tokens:\n",
    "        if re.search('[a-zA-Z]', token):\n",
    "            filtered_tokens.append(token)\n",
    "    output = filtered_tokens\n",
    "    if stem:\n",
    "        output = [stemmer.stem(t) for t in filtered_tokens]\n",
    "    if rm_stopwords:\n",
    "        output = [t for t in output if t.lower() not in stopwords]\n",
    "    return output"
   ]
  },
  {
   "cell_type": "code",
   "execution_count": 54,
   "metadata": {},
   "outputs": [],
   "source": [
    "# we process condition feature and keep the processed text in a new column 'conditionProcessed'\n",
    "dr_data['conditionProcessed'] = dr_data.apply (lambda row: ' '.join(text_process(str(row['condition']))),axis=1)"
   ]
  },
  {
   "cell_type": "code",
   "execution_count": 55,
   "metadata": {},
   "outputs": [
    {
     "data": {
      "text/html": [
       "<div>\n",
       "<style scoped>\n",
       "    .dataframe tbody tr th:only-of-type {\n",
       "        vertical-align: middle;\n",
       "    }\n",
       "\n",
       "    .dataframe tbody tr th {\n",
       "        vertical-align: top;\n",
       "    }\n",
       "\n",
       "    .dataframe thead th {\n",
       "        text-align: right;\n",
       "    }\n",
       "</style>\n",
       "<table border=\"1\" class=\"dataframe\">\n",
       "  <thead>\n",
       "    <tr style=\"text-align: right;\">\n",
       "      <th></th>\n",
       "      <th>condition</th>\n",
       "      <th>conditionProcessed</th>\n",
       "    </tr>\n",
       "  </thead>\n",
       "  <tbody>\n",
       "    <tr>\n",
       "      <th>0</th>\n",
       "      <td>Depression</td>\n",
       "      <td>Depression</td>\n",
       "    </tr>\n",
       "    <tr>\n",
       "      <th>1</th>\n",
       "      <td>Crohn's Disease, Maintenance</td>\n",
       "      <td>Crohn 's Disease Maintenance</td>\n",
       "    </tr>\n",
       "    <tr>\n",
       "      <th>2</th>\n",
       "      <td>Urinary Tract Infection</td>\n",
       "      <td>Urinary Tract Infection</td>\n",
       "    </tr>\n",
       "    <tr>\n",
       "      <th>3</th>\n",
       "      <td>Weight Loss</td>\n",
       "      <td>Weight Loss</td>\n",
       "    </tr>\n",
       "    <tr>\n",
       "      <th>4</th>\n",
       "      <td>Birth Control</td>\n",
       "      <td>Birth Control</td>\n",
       "    </tr>\n",
       "  </tbody>\n",
       "</table>\n",
       "</div>"
      ],
      "text/plain": [
       "                      condition            conditionProcessed\n",
       "0                    Depression                    Depression\n",
       "1  Crohn's Disease, Maintenance  Crohn 's Disease Maintenance\n",
       "2       Urinary Tract Infection       Urinary Tract Infection\n",
       "3                   Weight Loss                   Weight Loss\n",
       "4                 Birth Control                 Birth Control"
      ]
     },
     "execution_count": 55,
     "metadata": {},
     "output_type": "execute_result"
    }
   ],
   "source": [
    "dr_data[['condition','conditionProcessed']].head()"
   ]
  },
  {
   "cell_type": "code",
   "execution_count": 56,
   "metadata": {},
   "outputs": [],
   "source": [
    "# we process the reviews and keep the processed text in a new column 'reviewProcessed'\n",
    "dr_data['reviewProcessed'] = dr_data.apply (lambda row: ' '.join(text_process(str(row['review']),stem=False)),axis=1)"
   ]
  },
  {
   "cell_type": "code",
   "execution_count": 57,
   "metadata": {},
   "outputs": [
    {
     "data": {
      "text/html": [
       "<div>\n",
       "<style scoped>\n",
       "    .dataframe tbody tr th:only-of-type {\n",
       "        vertical-align: middle;\n",
       "    }\n",
       "\n",
       "    .dataframe tbody tr th {\n",
       "        vertical-align: top;\n",
       "    }\n",
       "\n",
       "    .dataframe thead th {\n",
       "        text-align: right;\n",
       "    }\n",
       "</style>\n",
       "<table border=\"1\" class=\"dataframe\">\n",
       "  <thead>\n",
       "    <tr style=\"text-align: right;\">\n",
       "      <th></th>\n",
       "      <th>review</th>\n",
       "      <th>reviewProcessed</th>\n",
       "    </tr>\n",
       "  </thead>\n",
       "  <tbody>\n",
       "    <tr>\n",
       "      <th>0</th>\n",
       "      <td>\"I&amp;#039;ve tried a few antidepressants over th...</td>\n",
       "      <td>tried antidepressants years citalopram fluoxet...</td>\n",
       "    </tr>\n",
       "    <tr>\n",
       "      <th>1</th>\n",
       "      <td>\"My son has Crohn&amp;#039;s disease and has done ...</td>\n",
       "      <td>son Crohn disease done well Asacol complaints ...</td>\n",
       "    </tr>\n",
       "    <tr>\n",
       "      <th>2</th>\n",
       "      <td>\"Quick reduction of symptoms\"</td>\n",
       "      <td>Quick reduction symptoms</td>\n",
       "    </tr>\n",
       "    <tr>\n",
       "      <th>3</th>\n",
       "      <td>\"Contrave combines drugs that were used for al...</td>\n",
       "      <td>Contrave combines drugs used alcohol smoking o...</td>\n",
       "    </tr>\n",
       "    <tr>\n",
       "      <th>4</th>\n",
       "      <td>\"I have been on this birth control for one cyc...</td>\n",
       "      <td>birth control one cycle reading reviews type s...</td>\n",
       "    </tr>\n",
       "  </tbody>\n",
       "</table>\n",
       "</div>"
      ],
      "text/plain": [
       "                                              review  \\\n",
       "0  \"I&#039;ve tried a few antidepressants over th...   \n",
       "1  \"My son has Crohn&#039;s disease and has done ...   \n",
       "2                      \"Quick reduction of symptoms\"   \n",
       "3  \"Contrave combines drugs that were used for al...   \n",
       "4  \"I have been on this birth control for one cyc...   \n",
       "\n",
       "                                     reviewProcessed  \n",
       "0  tried antidepressants years citalopram fluoxet...  \n",
       "1  son Crohn disease done well Asacol complaints ...  \n",
       "2                           Quick reduction symptoms  \n",
       "3  Contrave combines drugs used alcohol smoking o...  \n",
       "4  birth control one cycle reading reviews type s...  "
      ]
     },
     "execution_count": 57,
     "metadata": {},
     "output_type": "execute_result"
    }
   ],
   "source": [
    "dr_data[['review','reviewProcessed']].head()"
   ]
  },
  {
   "cell_type": "markdown",
   "metadata": {},
   "source": [
    "# Text Classification"
   ]
  },
  {
   "cell_type": "code",
   "execution_count": 58,
   "metadata": {},
   "outputs": [],
   "source": [
    "# splitting features and labels for classification. we load the features into 'X' and the label (rating) into 'Y'. \n",
    "X = dr_data[['conditionProcessed','reviewProcessed','reviewLength','usefulCount','day','month','year']]\n",
    "Y = np.array(dr_data['rating'])\n",
    "# splitting the data into training and test sets. We keep %30 of the data for test. \n",
    "X_train, X_test, Y_train, Y_test = train_test_split(X, Y, test_size=0.3, random_state=42)"
   ]
  },
  {
   "cell_type": "code",
   "execution_count": 59,
   "metadata": {},
   "outputs": [],
   "source": [
    "# We use Sklearn's pipeline functionality to easily repeat commonly occuring \n",
    "# steps (e.g., feature extraction, feature transformation, learning) in our modeling process.\n",
    "\n",
    "# First thing we want to do is define how to process our features. \n",
    "# The standard preprocessing in pipelines apply the same preprocessing to the whole dataset, \n",
    "# but in cases where we have heterogeneous data, this doesn't quite work. So first we create \n",
    "# some selectors/transformers that simply returns the one column in the dataset by the key value we pass.\n",
    "\n",
    "# We define two different selectors for either text or numeric columns.\n",
    "\n",
    "class TextSelector(BaseEstimator, TransformerMixin):\n",
    "    \"\"\"\n",
    "    Transformer to select a single column from the data frame to perform additional transformations on\n",
    "    Use on text columns in the data\n",
    "    \"\"\"\n",
    "    def __init__(self, key):\n",
    "        self.key = key\n",
    "\n",
    "    def fit(self, X, y=None):\n",
    "        return self\n",
    "\n",
    "    def transform(self, X):\n",
    "        return X[self.key]\n",
    "    \n",
    "class NumberSelector(BaseEstimator, TransformerMixin):\n",
    "    \"\"\"\n",
    "    Transformer to select a single column from the data frame to perform additional transformations on\n",
    "    Use on numeric columns in the data\n",
    "    \"\"\"\n",
    "    def __init__(self, key):\n",
    "        self.key = key\n",
    "\n",
    "    def fit(self, X, y=None):\n",
    "        return self\n",
    "\n",
    "    def transform(self, X):\n",
    "        return X[[self.key]]\n",
    "\n",
    "# We also define the following transformers/vectorizers to be used for one hot encoding and word embedding.\n",
    "\n",
    "class DenseTransformer(TransformerMixin):\n",
    "\n",
    "    def transform(self, X, y=None, **fit_params):\n",
    "        return X.todense()\n",
    "\n",
    "    def fit_transform(self, X, y=None, **fit_params):\n",
    "        self.fit(X, y, **fit_params)\n",
    "        return self.transform(X)\n",
    "\n",
    "    def fit(self, X, y=None, **fit_params):\n",
    "        return self\n",
    "    \n",
    "# We will implement an embedding vectorizer - a counterpart of CountVectorizer and TfidfVectorizer - \n",
    "# that is given a word -> vector mapping and vectorizes texts by taking the mean of all the vectors \n",
    "# corresponding to individual words.\n",
    "class MeanEmbeddingVectorizer(object):\n",
    "    def __init__(self, word2vec):\n",
    "        self.word2vec = word2vec\n",
    "        if len(word2vec)>0:\n",
    "            self.dim=len(word2vec[next(iter(glove_small))])\n",
    "        else:\n",
    "            self.dim=0\n",
    "            \n",
    "    def fit(self, X, y):\n",
    "        return self \n",
    "\n",
    "    def transform(self, X):\n",
    "        return np.array([\n",
    "            np.mean([self.word2vec[w] for w in words if w in self.word2vec] \n",
    "                    or [np.zeros(self.dim)], axis=0)\n",
    "            for words in X\n",
    "        ])\n",
    "# and a tf-idf version of the same\n",
    "class TfidfEmbeddingVectorizer(object):\n",
    "    def __init__(self, word2vec):\n",
    "        self.word2vec = word2vec\n",
    "        self.word2weight = None\n",
    "        if len(word2vec)>0:\n",
    "            self.dim=len(word2vec[next(iter(glove_small))])\n",
    "        else:\n",
    "            self.dim=0\n",
    "        \n",
    "    def fit(self, X, y):\n",
    "        tfidf = TfidfVectorizer(analyzer=lambda x: x)\n",
    "        tfidf.fit(X)\n",
    "        # if a word was never seen - it must be at least as infrequent\n",
    "        # as any of the known words - so the default idf is the max of \n",
    "        # known idf's\n",
    "        max_idf = max(tfidf.idf_)\n",
    "        self.word2weight = defaultdict(\n",
    "            lambda: max_idf, \n",
    "            [(w, tfidf.idf_[i]) for w, i in tfidf.vocabulary_.items()])\n",
    "    \n",
    "        return self\n",
    "    \n",
    "    def transform(self, X):\n",
    "        return np.array([\n",
    "                np.mean([self.word2vec[w] * self.word2weight[w]\n",
    "                         for w in words if w in self.word2vec] or\n",
    "                        [np.zeros(self.dim)], axis=0)\n",
    "                for words in X\n",
    "            ])\n",
    "    "
   ]
  },
  {
   "cell_type": "code",
   "execution_count": 60,
   "metadata": {},
   "outputs": [],
   "source": [
    "# For each feature, we make a mini pipeline that consists of two steps: \n",
    "# 1. grab just that column from the dataset\n",
    "# 2. perform proper transform on just that column and return the results.\n",
    "\n",
    "\n",
    "# For review feature, we apply tf-idf vectorizer with l2-normalization and using unigram and bigrams\n",
    "# (the parameters has been tuned through grid search)\n",
    "review = Pipeline([\n",
    "            ('review_extract' , TextSelector(key='reviewProcessed')),\n",
    "            ('tfidf', TfidfVectorizer(max_features=100000,\n",
    "                             stop_words='english',\n",
    "                             norm='l2',use_idf=True, ngram_range=(1,2)))\n",
    "        ])\n",
    "\n",
    "# For condition feature, we apply tf-idf vectorizer without normalization and using unigram \n",
    "condition = Pipeline([\n",
    "            ('cond_extract', TextSelector(key='conditionProcessed')),\n",
    "            ('tfidf', TfidfVectorizer(max_features=100000,\n",
    "                             stop_words='english',\n",
    "                             norm=None,use_idf=True, ngram_range=(1,1)))\n",
    "        ])\n",
    "\n",
    "# For review length and usefulCount, we apply simple numerical normalizer \n",
    "reviewLen = Pipeline([\n",
    "            ('reviewLength', NumberSelector(key='reviewLength')),\n",
    "            ('scale', Normalizer())\n",
    "        ])\n",
    "\n",
    "useful = Pipeline([\n",
    "            ('usefulCount_extract', NumberSelector(key='usefulCount')),\n",
    "            ('scale', Normalizer())\n",
    "        ])\n",
    "\n",
    "# We consider day, month, and year as categorical features, and apply on-hot encodding followed by dense transformer\n",
    "day = Pipeline([\n",
    "            ('day_extract', NumberSelector(key='day')),\n",
    "            ('one_hot', OneHotEncoder()),\n",
    "            ('to_dense', DenseTransformer())\n",
    "        ])\n",
    "\n",
    "month = Pipeline([\n",
    "            ('month_extract', NumberSelector(key='month')),\n",
    "            ('one_hot', OneHotEncoder()),\n",
    "            ('to_dense', DenseTransformer())\n",
    "        ])\n",
    "\n",
    "year = Pipeline([\n",
    "            ('year_extract', NumberSelector(key='year')),\n",
    "            ('one_hot', OneHotEncoder()),\n",
    "            ('to_dense', DenseTransformer())\n",
    "        ])\n",
    "\n",
    "\n",
    "# To make a pipeline from all of our pipelines, we do the same thing, but now we \n",
    "# use a FeatureUnion to join the feature processing pipelines.\n",
    "# Using a FeatureUnion, we actually parallelize the processesing/transforming our features. \n",
    "featsUnion = FeatureUnion([('review', review),\n",
    "                      ('condition',condition),\n",
    "                      #('reviewLen',reviewLen), # uncomment this line to include reviewLen in features\n",
    "                      ('useful',useful),\n",
    "                      #('day',day), # uncomment this line to include reviewLen in features\n",
    "                      #('month',month), # uncomment this line to include reviewLen in features\n",
    "                      #('year',year), # uncomment this line to include reviewLen in features\n",
    "                     ])\n",
    "\n",
    "# Finally, we create a classifier pipeline to generate predictions based on the given features.\n",
    "classifierPipeline = Pipeline([\n",
    "    ('features', review), # replace review with featsUnion to include all features for classification\n",
    "    ('classifier', LogisticRegressionCV(cv=5))\n",
    "])\n",
    "\n",
    "# We have also evaluated the following classifiers: \n",
    "# ExtraTreesClassifier(n_estimators=200)\n",
    "# SVC(kernel=\"linear\")\n",
    "# LogisticRegressionCV(cv=5)\n",
    "# RandomForestClassifier(random_state=0, n_estimators=70)\n",
    "# SGDClassifier(loss='hinge', penalty='l2',alpha=1e-3, n_iter=5, random_state=42)\n",
    "# however, LogisticRegressionCV (logistic regression with cross validation) achievd the best results.\n"
   ]
  },
  {
   "cell_type": "code",
   "execution_count": 61,
   "metadata": {},
   "outputs": [
    {
     "name": "stdout",
     "output_type": "stream",
     "text": [
      "Accuracy:  0.4735895846249225\n",
      "MAE: 1.646187228766274\n",
      "MSE: 8.569683818970862\n",
      "RMSE 2.9274022304717304\n"
     ]
    }
   ],
   "source": [
    "# run the classifier pipeline and print the result\n",
    "classifierPipeline = classifierPipeline.fit(X_train, Y_train)\n",
    "predictions = classifierPipeline.predict(X_test)\n",
    "# calculating Accuracy, MAE, MSE, RMSE\n",
    "print('Accuracy: ',np.mean(predictions == Y_test))\n",
    "print('MAE:',metrics.mean_absolute_error(Y_test, predictions))\n",
    "print('MSE:',metrics.mean_squared_error(Y_test, predictions))\n",
    "print('RMSE',np.sqrt(metrics.mean_squared_error(Y_test, predictions)))"
   ]
  },
  {
   "cell_type": "code",
   "execution_count": 62,
   "metadata": {},
   "outputs": [
    {
     "name": "stdout",
     "output_type": "stream",
     "text": [
      "[[1464   50   40   12   42    8   21   74  101  398]\n",
      " [ 235  124   26    4   24   10   21   48   52  146]\n",
      " [ 195   32  108    8   20    8   26   56   52  156]\n",
      " [  95   11   32   80   29    8   14   47   49  128]\n",
      " [ 144   13   20   15  148   18   33   88   98  244]\n",
      " [  79   11   11   13   31  104   27   88  104  190]\n",
      " [  76   14   10    4   35   10  169  123  173  341]\n",
      " [  88   11   12    3   25   16   55  502  303  819]\n",
      " [ 101    8    7    6   19    8   29  225  860 1441]\n",
      " [ 152    9    8    2   16    7   41  201  588 4080]]\n",
      "\n",
      "\n",
      "             precision    recall  f1-score   support\n",
      "\n",
      "          1       0.56      0.66      0.61      2210\n",
      "          2       0.44      0.18      0.25       690\n",
      "          3       0.39      0.16      0.23       661\n",
      "          4       0.54      0.16      0.25       493\n",
      "          5       0.38      0.18      0.24       821\n",
      "          6       0.53      0.16      0.24       658\n",
      "          7       0.39      0.18      0.24       955\n",
      "          8       0.35      0.27      0.31      1834\n",
      "          9       0.36      0.32      0.34      2704\n",
      "         10       0.51      0.80      0.63      5104\n",
      "\n",
      "avg / total       0.45      0.47      0.44     16130\n",
      "\n"
     ]
    }
   ],
   "source": [
    "# print the confusion matrix and report\n",
    "from sklearn.metrics import confusion_matrix, classification_report\n",
    "print(confusion_matrix(Y_test, predictions))\n",
    "print('\\n')\n",
    "print(classification_report(Y_test, predictions))"
   ]
  },
  {
   "cell_type": "code",
   "execution_count": null,
   "metadata": {},
   "outputs": [],
   "source": [
    "# Grid Search\n",
    "# Here, we are creating a list of parameters for which we would like to do performance tuning. \n",
    "# All the parameters name start with the pipeline/components names the we have given. \n",
    "# E.g. features__review__tfidf__norm; here we are telling to use l1- and l2- as normalization for tfidf transformer \n",
    "# in review pipelne which itself is in features pipeline, and choose the one which is optimal.\n",
    "\n",
    "parameters = {'features__review__tfidf__norm': ('l1','l2',None),'features__review__tfidf__ngarm_range': [(1,1),(1,2),(1,3)]}\n",
    "\n",
    "# Pass the classifier, parameters and n_jobs=-1 which tells to use multiple cores from user machine.\n",
    "gs_clf = GridSearchCV(classifierPipeline, parameters, n_jobs=-1)\n",
    "gs_clf = gs_clf.fit(X_train,Y_train)\n",
    "\n",
    "# Print the best score and the params\n",
    "print(gs_clf.best_score_)\n",
    "print(gs_clf.best_params_)"
   ]
  },
  {
   "cell_type": "markdown",
   "metadata": {},
   "source": [
    "## Conclusion"
   ]
  },
  {
   "cell_type": "markdown",
   "metadata": {},
   "source": [
    "We formulate the `rating prediction` as a classification problem considering multiple (heterogenous) features.\n",
    "We first analysed the existing features and extended the feature space by adding review length and splitting the date to day, month, and year.\n",
    "We also analysed the correlation of numeric features to see whether they are dependant or independent. \n",
    "To increase the quality of textual features we processed textual features `review` and `condition` by removing stopwords and numbers, as they have shown to decrease the accuracy of our classification.\n",
    "\n",
    "We trained/evaluated a set of classifiers including Extra Trees Classifier, Support Vector Classifier, Logistic Regression, Random Forrest, Stochastic Gradient Descent over the features and made the following observations:\n",
    "-\tLogistic Regression with Cross Validation achieves the best results in terms of Accuracy, MAE, MSE, and RMSE.\n",
    "-\t`review` is the most (if not the only) useful feature in the classification process, with a very small improvement (~0.01 for accuracy) in performance by including `condition` and `usefulCount` features as well. However, other features have not improved the performance.\n",
    "\n",
    "We further analysed the `review` feature and made the following observations:\n",
    "-\tFor vectorizing `review` text, we utilized TF-IDF and Word Embedding (using pre-trained model with Glove) approaches, where TF-IDF outperformed Word Embedding by ~0.05 in accuracy. \n",
    "-\tThe best TF-IDF result is achieved when we apply unigrams and bigrams from the `review` text and l2-normalization of the TF-IDF vectors. We witnessed a decline in performance when choose to stem the words. \n",
    "\n",
    "You may run the following code for the Word Embedding-based classification of reviews. It is based on a GloVe word vector representations from the following link: http://nlp.stanford.edu/data/glove.6B.zip (bunch of small embeddings - trained on 6B tokens - 822 MB download, 2GB unzipped). \n",
    "You should unzip the dataset and put the path in GLOVE_6B_50D_PATH bellow.\n",
    "A larger model can be found at http://nlp.stanford.edu/data/glove.840B.300d.zip (trained on 840B tokens - 2GB compressed, 5GB unzipped)"
   ]
  },
  {
   "cell_type": "code",
   "execution_count": 29,
   "metadata": {},
   "outputs": [
    {
     "name": "stderr",
     "output_type": "stream",
     "text": [
      "C:\\Users\\mebrahimi\\AppData\\Local\\Continuum\\anaconda3\\lib\\site-packages\\gensim\\utils.py:1212: UserWarning: detected Windows; aliasing chunkize to chunkize_serial\n",
      "  warnings.warn(\"detected Windows; aliasing chunkize to chunkize_serial\")\n"
     ]
    }
   ],
   "source": [
    "# Word Embedding-based classification of reviews\n",
    "\n",
    "from tabulate import tabulate\n",
    "%matplotlib inline\n",
    "from gensim.models.word2vec import Word2Vec\n",
    "from collections import Counter, defaultdict\n",
    "from sklearn.naive_bayes import BernoulliNB, MultinomialNB\n",
    "from sklearn.metrics import accuracy_score\n",
    "from sklearn.cross_validation import cross_val_score\n",
    "from sklearn.cross_validation import StratifiedShuffleSplit\n",
    "\n",
    "# preparing Training and Test sets for the classifier \n",
    "X = np.array(dr_data['reviewProcessed'])\n",
    "Y = np.array(dr_data['rating'])\n",
    "X_train, X_test, Y_train, Y_test = train_test_split(X, Y, test_size=0.3, random_state=42)\n",
    "\n",
    "# path to the downloaded glove word embeddings.\n",
    "GLOVE_6B_50D_PATH = \"C:/Users/mebrahimi/Documents/glove.6B/glove.6B.50d.txt\"\n",
    "encoding=\"utf-8\"\n",
    "\n",
    "with open(GLOVE_6B_50D_PATH, \"rb\") as lines:\n",
    "    wvec = {line.split()[0].decode(encoding): np.array(line.split()[1:],dtype=np.float32)\n",
    "               for line in lines}\n",
    "    \n",
    "# reading glove files, this may take a while\n",
    "# we're reading line by line and only saving vectors\n",
    "# that correspond to words from our training set\n",
    "# if you wan't to play around with the vectors and have \n",
    "# enough RAM - remove the 'if' line and load everything\n",
    "\n",
    "import struct \n",
    "\n",
    "glove_small = {}\n",
    "all_words = set(w for words in X for w in words)\n",
    "with open(GLOVE_6B_50D_PATH, \"rb\") as infile:\n",
    "    for line in infile:\n",
    "        parts = line.split()\n",
    "        word = parts[0].decode(encoding)\n",
    "        nums=np.array(parts[1:], dtype=np.float32)\n",
    "        glove_small[word] = nums\n",
    "\n",
    "# Extra Trees classifier is one of the best choiec to stack it with word embeddings\n",
    "etree_glove_small = Pipeline([(\"glove vectorizer\", MeanEmbeddingVectorizer(glove_small)), \n",
    "                        (\"extra trees\", ExtraTreesClassifier(n_estimators=200))])\n",
    "etree_glove_small_tfidf = Pipeline([(\"glove vectorizer\", TfidfEmbeddingVectorizer(glove_small)), \n",
    "                        (\"extra trees\", ExtraTreesClassifier(n_estimators=200))])\n"
   ]
  },
  {
   "cell_type": "code",
   "execution_count": 30,
   "metadata": {},
   "outputs": [
    {
     "name": "stdout",
     "output_type": "stream",
     "text": [
      "Accuracy:  0.41010539367637944\n",
      "MAE: 2.5970861748295104\n",
      "MSE: 17.04122752634842\n",
      "RMSE 4.128102170047202\n"
     ]
    }
   ],
   "source": [
    "# run the classifier pipeline and print the result\n",
    "etree_glove_small = etree_glove_small.fit(X_train, Y_train)\n",
    "predictions = etree_glove_small.predict(X_test)\n",
    "# calculating Accuracy, MAE, MSE, RMSE\n",
    "print('Accuracy: ',np.mean(predictions == Y_test))\n",
    "print('MAE:',metrics.mean_absolute_error(Y_test, predictions))\n",
    "print('MSE:',metrics.mean_squared_error(Y_test, predictions))\n",
    "print('RMSE',np.sqrt(metrics.mean_squared_error(Y_test, predictions)))"
   ]
  },
  {
   "cell_type": "code",
   "execution_count": 31,
   "metadata": {},
   "outputs": [
    {
     "name": "stdout",
     "output_type": "stream",
     "text": [
      "Accuracy:  0.4117172969621823\n",
      "MAE: 2.5879727216367017\n",
      "MSE: 16.971357718536886\n",
      "RMSE 4.119630774539981\n"
     ]
    }
   ],
   "source": [
    "# run the classifier pipeline and print the result\n",
    "etree_glove_small_tfidf = etree_glove_small_tfidf.fit(X_train, Y_train)\n",
    "predictions = etree_glove_small_tfidf.predict(X_test)\n",
    "# calculating Accuracy, MAE, MSE, RMSE\n",
    "print('Accuracy: ',np.mean(predictions == Y_test))\n",
    "print('MAE:',metrics.mean_absolute_error(Y_test, predictions))\n",
    "print('MSE:',metrics.mean_squared_error(Y_test, predictions))\n",
    "print('RMSE',np.sqrt(metrics.mean_squared_error(Y_test, predictions)))"
   ]
  },
  {
   "cell_type": "markdown",
   "metadata": {},
   "source": [
    "## Final Thoughts"
   ]
  },
  {
   "cell_type": "markdown",
   "metadata": {},
   "source": [
    "There are more directions that worth exploring in order to further improve the performance of classification:\n",
    "1. Train a word embedding model on a medical corpus and use it for vectorization. (Note: I trained a model on the given dataset, however, it has shown weak performance, mainly because of the small size of the dataset)\n",
    "2. Utilize sentiment analysis packages (e.g., TextBlob, or sentiWordNet) to add a sentiment feature based on the reviews.\n",
    "3. Model the problem as a regression problem and round the predictions to get the rating labels. (Note: My priliminary results have not shown any improvement)\n",
    "4. Further elaborate the `usefulCount` feature to amplify the importance of `review`s. ",
    "5. Train a neural network for each feature and concatinate the output representations of all neural networks \n as the final feature for the classification (please see our proposed framework for geolocation classification: http://www.aclweb.org/anthology/K18-1005)."
   ]
  },
  {
   "cell_type": "code",
   "execution_count": null,
   "metadata": {},
   "outputs": [],
   "source": []
  }
 ],
 "metadata": {
  "kernelspec": {
   "display_name": "Python 3",
   "language": "python",
   "name": "python3"
  },
  "language_info": {
   "codemirror_mode": {
    "name": "ipython",
    "version": 3
   },
   "file_extension": ".py",
   "mimetype": "text/x-python",
   "name": "python",
   "nbconvert_exporter": "python",
   "pygments_lexer": "ipython3",
   "version": "3.7.0"
  }
 },
 "nbformat": 4,
 "nbformat_minor": 2
}
